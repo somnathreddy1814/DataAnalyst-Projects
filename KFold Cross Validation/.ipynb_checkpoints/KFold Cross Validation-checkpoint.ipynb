{
 "cells": [
  {
   "cell_type": "code",
   "execution_count": 4,
   "id": "68f503d2",
   "metadata": {},
   "outputs": [],
   "source": [
    "from sklearn.linear_model import LogisticRegression\n",
    "from sklearn.svm import SVC\n",
    "from sklearn.ensemble import RandomForestClassifier\n",
    "import numpy as np\n",
    "import matplotlib.pyplot as plt\n",
    "from sklearn.datasets import load_digits\n",
    "digits=load_digits()"
   ]
  },
  {
   "cell_type": "code",
   "execution_count": 9,
   "id": "b7455e31",
   "metadata": {},
   "outputs": [],
   "source": [
    "from sklearn.model_selection import train_test_split\n",
    "X_train, X_test, y_train, y_test = train_test_split(digits.data,digits.target,test_size=0.3,random_state=10)"
   ]
  },
  {
   "cell_type": "markdown",
   "id": "27f2d6e7",
   "metadata": {},
   "source": [
    "### Logistic"
   ]
  },
  {
   "cell_type": "code",
   "execution_count": 10,
   "id": "a18d1d9d",
   "metadata": {},
   "outputs": [
    {
     "data": {
      "text/plain": [
       "0.9629629629629629"
      ]
     },
     "execution_count": 10,
     "metadata": {},
     "output_type": "execute_result"
    }
   ],
   "source": [
    "lr=LogisticRegression(solver='liblinear',multi_class='ovr')\n",
    "lr.fit(X_train,y_train)\n",
    "lr.score(X_test,y_test)"
   ]
  },
  {
   "cell_type": "markdown",
   "id": "52467876",
   "metadata": {},
   "source": [
    "### SVM"
   ]
  },
  {
   "cell_type": "code",
   "execution_count": 11,
   "id": "3a40a647",
   "metadata": {},
   "outputs": [
    {
     "data": {
      "text/plain": [
       "0.9814814814814815"
      ]
     },
     "execution_count": 11,
     "metadata": {},
     "output_type": "execute_result"
    }
   ],
   "source": [
    "svm=SVC(kernel='linear')\n",
    "svm.fit(X_train,y_train)\n",
    "svm.score(X_test,y_test)"
   ]
  },
  {
   "cell_type": "markdown",
   "id": "3670f4bb",
   "metadata": {},
   "source": [
    "### random forest"
   ]
  },
  {
   "cell_type": "code",
   "execution_count": 12,
   "id": "488d69f5",
   "metadata": {},
   "outputs": [
    {
     "data": {
      "text/plain": [
       "0.9648148148148148"
      ]
     },
     "execution_count": 12,
     "metadata": {},
     "output_type": "execute_result"
    }
   ],
   "source": [
    "rf=RandomForestClassifier(n_estimators=40)\n",
    "rf.fit(X_train,y_train)\n",
    "rf.score(X_test,y_test)"
   ]
  },
  {
   "cell_type": "markdown",
   "id": "ec6c13b4",
   "metadata": {},
   "source": [
    "Now we have calculated scores from 3 algos with some imp or main parameters now we can check with cross validations and stuff to know much more accurate score"
   ]
  },
  {
   "cell_type": "markdown",
   "id": "144cb313",
   "metadata": {},
   "source": [
    "## KFold cross validation"
   ]
  },
  {
   "cell_type": "code",
   "execution_count": 13,
   "id": "68c81432",
   "metadata": {},
   "outputs": [],
   "source": [
    "from sklearn.model_selection import KFold"
   ]
  },
  {
   "cell_type": "code",
   "execution_count": 14,
   "id": "4e9aa2bd",
   "metadata": {},
   "outputs": [
    {
     "data": {
      "text/plain": [
       "KFold(n_splits=10, random_state=None, shuffle=False)"
      ]
     },
     "execution_count": 14,
     "metadata": {},
     "output_type": "execute_result"
    }
   ],
   "source": [
    "kf=KFold(n_splits=10)\n",
    "kf"
   ]
  },
  {
   "cell_type": "code",
   "execution_count": 15,
   "id": "95440b33",
   "metadata": {},
   "outputs": [],
   "source": [
    "def get_score(model, X_train, X_test, y_train, y_test):\n",
    "    model.fit(X_train, y_train)\n",
    "    return model.score(X_test, y_test)"
   ]
  },
  {
   "cell_type": "code",
   "execution_count": 17,
   "id": "e01e72a6",
   "metadata": {},
   "outputs": [],
   "source": [
    "from sklearn.model_selection import StratifiedKFold\n",
    "#folds=StratifiedKFold(folds=10)\n",
    "# scores_logistic = []\n",
    "# scores_svm = []\n",
    "# scores_rf = []\n",
    "\n",
    "# for train_index, test_index in folds.split(digits.data,digits.target):\n",
    "#     X_train, X_test, y_train, y_test = digits.data[train_index], digits.data[test_index], \\\n",
    "#                                        digits.target[train_index], digits.target[test_index]\n",
    "#     scores_logistic.append(get_score(LogisticRegression(solver='liblinear',multi_class='ovr'), X_train, X_test, y_train, y_test))  \n",
    "#     scores_svm.append(get_score(SVC(gamma='auto'), X_train, X_test, y_train, y_test))\n",
    "#     scores_rf.append(get_score(RandomForestClassifier(n_estimators=40), X_train, X_test, y_train, y_test))"
   ]
  },
  {
   "cell_type": "markdown",
   "id": "836b0a92",
   "metadata": {},
   "source": [
    "### cross_val_score function"
   ]
  },
  {
   "cell_type": "code",
   "execution_count": 30,
   "id": "d08b8093",
   "metadata": {},
   "outputs": [
    {
     "data": {
      "text/plain": [
       "array([0.91111111, 0.93888889, 0.89444444, 0.86666667, 0.94444444,\n",
       "       0.97222222, 0.97777778, 0.94972067, 0.8603352 , 0.94413408])"
      ]
     },
     "execution_count": 30,
     "metadata": {},
     "output_type": "execute_result"
    }
   ],
   "source": [
    "from sklearn.model_selection import cross_val_score\n",
    "lr_score=cross_val_score(LogisticRegression(solver='liblinear',multi_class='ovr'), digits.data, digits.target,cv=10)\n",
    "lr_score"
   ]
  },
  {
   "cell_type": "code",
   "execution_count": 33,
   "id": "e568bbf1",
   "metadata": {},
   "outputs": [
    {
     "data": {
      "text/plain": [
       "0.9259745499689634"
      ]
     },
     "execution_count": 33,
     "metadata": {},
     "output_type": "execute_result"
    }
   ],
   "source": [
    "lr_score.mean()"
   ]
  },
  {
   "cell_type": "code",
   "execution_count": 35,
   "id": "aae05748",
   "metadata": {},
   "outputs": [
    {
     "data": {
      "text/plain": [
       "array([0.93888889, 0.99444444, 0.93333333, 0.94444444, 0.96111111,\n",
       "       0.98888889, 0.96666667, 0.97765363, 0.93296089, 0.96648045])"
      ]
     },
     "execution_count": 35,
     "metadata": {},
     "output_type": "execute_result"
    }
   ],
   "source": [
    "svm_score=cross_val_score(SVC(kernel='linear'), digits.data, digits.target,cv=10)\n",
    "svm_score"
   ]
  },
  {
   "cell_type": "code",
   "execution_count": 36,
   "id": "42b9c51b",
   "metadata": {},
   "outputs": [
    {
     "data": {
      "text/plain": [
       "0.9604872749844816"
      ]
     },
     "execution_count": 36,
     "metadata": {},
     "output_type": "execute_result"
    }
   ],
   "source": [
    "svm_score.mean()"
   ]
  },
  {
   "cell_type": "code",
   "execution_count": 37,
   "id": "ea02c072",
   "metadata": {},
   "outputs": [
    {
     "data": {
      "text/plain": [
       "array([0.9       , 0.97222222, 0.94444444, 0.90555556, 0.96111111,\n",
       "       0.97222222, 0.97777778, 0.97206704, 0.95530726, 0.92178771])"
      ]
     },
     "execution_count": 37,
     "metadata": {},
     "output_type": "execute_result"
    }
   ],
   "source": [
    "rf_score=cross_val_score(RandomForestClassifier(n_estimators=40), digits.data, digits.target,cv=10)\n",
    "rf_score"
   ]
  },
  {
   "cell_type": "code",
   "execution_count": 38,
   "id": "433b35a4",
   "metadata": {},
   "outputs": [
    {
     "data": {
      "text/plain": [
       "0.9482495344506517"
      ]
     },
     "execution_count": 38,
     "metadata": {},
     "output_type": "execute_result"
    }
   ],
   "source": [
    "rf_score.mean()"
   ]
  },
  {
   "cell_type": "markdown",
   "id": "1a204630",
   "metadata": {},
   "source": [
    "Further for more accuracy and precision we can do more hyper parameter tuning and find the score in the similar way"
   ]
  },
  {
   "cell_type": "code",
   "execution_count": null,
   "id": "050bd3f4",
   "metadata": {},
   "outputs": [],
   "source": []
  }
 ],
 "metadata": {
  "kernelspec": {
   "display_name": "Python 3 (ipykernel)",
   "language": "python",
   "name": "python3"
  },
  "language_info": {
   "codemirror_mode": {
    "name": "ipython",
    "version": 3
   },
   "file_extension": ".py",
   "mimetype": "text/x-python",
   "name": "python",
   "nbconvert_exporter": "python",
   "pygments_lexer": "ipython3",
   "version": "3.10.9"
  }
 },
 "nbformat": 4,
 "nbformat_minor": 5
}
